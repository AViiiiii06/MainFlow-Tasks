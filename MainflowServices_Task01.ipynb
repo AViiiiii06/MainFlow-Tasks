{
  "nbformat": 4,
  "nbformat_minor": 0,
  "metadata": {
    "colab": {
      "provenance": []
    },
    "kernelspec": {
      "name": "python3",
      "display_name": "Python 3"
    },
    "language_info": {
      "name": "python"
    }
  },
  "cells": [
    {
      "cell_type": "code",
      "execution_count": null,
      "metadata": {
        "colab": {
          "base_uri": "https://localhost:8080/"
        },
        "id": "GP5QWeLf9_fH",
        "outputId": "d8c5a19c-778e-4e04-899e-0773e06e0aec"
      },
      "outputs": [
        {
          "output_type": "stream",
          "name": "stdout",
          "text": [
            "List after adding an element: [1, 2, 3, 4, 5]\n",
            "List after removing an element: [1, 3, 4, 5]\n",
            "List after modifying an element: [1, 42, 4, 5]\n",
            "Dictionary after adding a key-value pair: {'a': 1, 'b': 2, 'c': 3, 'd': 4}\n",
            "Dictionary after removing a key-value pair: {'a': 1, 'c': 3, 'd': 4}\n",
            "Dictionary after modifying a value: {'a': 99, 'c': 3, 'd': 4}\n",
            "Set after adding an element: {40, 10, 20, 30}\n",
            "Set after removing an element: {40, 10, 30}\n",
            "Is 30 present in the set? True\n"
          ]
        }
      ],
      "source": [
        "# Create a list, dictionary, and set\n",
        "my_list = [1, 2, 3, 4]\n",
        "my_dict = {'a': 1, 'b': 2, 'c': 3}\n",
        "my_set = {10, 20, 30}\n",
        "\n",
        "# List Operations\n",
        "# Add an element to the list\n",
        "my_list.append(5)\n",
        "print(\"List after adding an element:\", my_list)\n",
        "\n",
        "# Remove an element from the list\n",
        "my_list.remove(2)\n",
        "print(\"List after removing an element:\", my_list)\n",
        "\n",
        "# Modify an element in the list\n",
        "my_list[1] = 42\n",
        "print(\"List after modifying an element:\", my_list)\n",
        "\n",
        "# Dictionary Operations\n",
        "# Add a new key-value pair\n",
        "my_dict['d'] = 4\n",
        "print(\"Dictionary after adding a key-value pair:\", my_dict)\n",
        "\n",
        "# Remove a key-value pair\n",
        "my_dict.pop('b')\n",
        "print(\"Dictionary after removing a key-value pair:\", my_dict)\n",
        "\n",
        "# Modify a value\n",
        "my_dict['a'] = 99\n",
        "print(\"Dictionary after modifying a value:\", my_dict)\n",
        "\n",
        "# Set Operations\n",
        "# Add an element to the set\n",
        "my_set.add(40)\n",
        "print(\"Set after adding an element:\", my_set)\n",
        "\n",
        "# Remove an element from the set\n",
        "my_set.remove(20)\n",
        "print(\"Set after removing an element:\", my_set)\n",
        "\n",
        "# Check for membership\n",
        "is_present = 30 in my_set\n",
        "print(\"Is 30 present in the set?\", is_present)\n"
      ]
    }
  ]
}